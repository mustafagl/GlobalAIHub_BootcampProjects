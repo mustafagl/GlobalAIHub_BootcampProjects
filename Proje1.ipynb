{
 "cells": [
  {
   "cell_type": "code",
   "execution_count": null,
   "id": "9e09ea13",
   "metadata": {},
   "outputs": [
    {
     "name": "stdout",
     "output_type": "stream",
     "text": [
      "1- Öğrenci Ekle\n",
      "2- Öğrencileri Göster\n",
      "3- Çıkış yap\n"
     ]
    },
    {
     "data": {
      "text/html": [
       "<div>\n",
       "<style scoped>\n",
       "    .dataframe tbody tr th:only-of-type {\n",
       "        vertical-align: middle;\n",
       "    }\n",
       "\n",
       "    .dataframe tbody tr th {\n",
       "        vertical-align: top;\n",
       "    }\n",
       "\n",
       "    .dataframe thead th {\n",
       "        text-align: right;\n",
       "    }\n",
       "</style>\n",
       "<table border=\"1\" class=\"dataframe\">\n",
       "  <thead>\n",
       "    <tr style=\"text-align: right;\">\n",
       "      <th></th>\n",
       "      <th>Ders</th>\n",
       "      <th>Ad</th>\n",
       "      <th>Soyad</th>\n",
       "      <th>No</th>\n",
       "      <th>Puan</th>\n",
       "      <th>Harf Notu</th>\n",
       "      <th>Başarı Durumu</th>\n",
       "    </tr>\n",
       "  </thead>\n",
       "  <tbody>\n",
       "  </tbody>\n",
       "</table>\n",
       "</div>"
      ],
      "text/plain": [
       "Empty DataFrame\n",
       "Columns: [Ders, Ad, Soyad, No, Puan, Harf Notu, Başarı Durumu]\n",
       "Index: []"
      ]
     },
     "metadata": {},
     "output_type": "display_data"
    },
    {
     "name": "stdout",
     "output_type": "stream",
     "text": [
      "Dataframe Gösterildi ve Excele yazıldı...\n"
     ]
    }
   ],
   "source": [
    "import pandas as pd\n",
    "from IPython.display import clear_output\n",
    "\n",
    "class Student:\n",
    "    \n",
    "    students_info = []\n",
    "    ders=\"Matematik\"\n",
    "\n",
    "    def __init__(self, ad, soyad, no, puan):\n",
    "        self.ad = ad\n",
    "        self.soyad = soyad\n",
    "        self.no = no\n",
    "        self.puan = puan\n",
    "\n",
    "    \n",
    "    def calculate_letter_system(self):\n",
    "        harfler = [\"AA\", \"BA\", \"BB\", \"CB\", \"CC\", \"DC\", \"DD\", \"FD\", \"FF\"]\n",
    "        not_araliklari = [(100,87), (87,80), (80,73), (73,66), (66,59), (59,52), (52,45), (45,38), (38,0)]\n",
    "        for i in range(len(harfler)):\n",
    "            if self.puan <= not_araliklari[i][0] and self.puan > not_araliklari[i][1]:\n",
    "                self.letter = harfler[i]\n",
    "                if harfler[i] != \"FF\" and harfler[i] != \"FD\":\n",
    "                    self.basari=\"geçti\"\n",
    "                else:\n",
    "                    self.basari=\"kaldı\"\n",
    "                \n",
    "                Student.students_info.append([Student.ders,self.ad,self.soyad,self.no,self.puan,self.letter,self.basari])    \n",
    "                break\n",
    "                \n",
    "              \n",
    "print(\"1- Öğrenci Ekle\")\n",
    "print(\"2- Öğrencileri Göster\")\n",
    "print(\"3- Çıkış yap\")  \n",
    "\n",
    "while(True): \n",
    "    try:\n",
    "        inp = int(input())\n",
    "        clear_output(wait=True)\n",
    "        print(\"1- Öğrenci Ekle\")\n",
    "        print(\"2- Öğrencileri Göster\")\n",
    "        print(\"3- Çıkış yap\")  \n",
    "\n",
    "        if inp == 1:\n",
    "            ogr_ad = input(\"Öğrenci Adı:\")\n",
    "            ogr_soyad = input(\"Öğrenci Soyadı:\")\n",
    "            ogr_no = input(\"Öğrenci No:\")\n",
    "            ogr_puan = int(input(\"Öğrenci Puanı:\"))\n",
    "            student = Student(ogr_ad, ogr_soyad, ogr_no, ogr_puan)   \n",
    "            student.calculate_letter_system()\n",
    "            print(\"Öğrenci Eklendi...\")\n",
    "\n",
    "        elif inp == 2:    \n",
    "            df = pd.DataFrame(Student.students_info, columns=['Ders', 'Ad', 'Soyad', 'No', 'Puan', \"Harf Notu\", 'Başarı Durumu'])\n",
    "            display(df)\n",
    "            df.to_csv(\"students.csv\")\n",
    "            print(\"Dataframe Gösterildi ve Excele yazıldı...\")\n",
    "        elif inp == 3:\n",
    "            print(\"Program Sonlandırıldı...\")\n",
    "            break\n",
    "        else:\n",
    "            print(\"Geçersiz Giriş...\")\n",
    "      \n",
    "    except:\n",
    "        print(\"Lütfen geçerli giriş yapınız\")\n",
    "            \n",
    "        "
   ]
  },
  {
   "cell_type": "markdown",
   "id": "0710f0ce",
   "metadata": {},
   "source": [
    "## "
   ]
  }
 ],
 "metadata": {
  "kernelspec": {
   "display_name": "Python 3 (ipykernel)",
   "language": "python",
   "name": "python3"
  },
  "language_info": {
   "codemirror_mode": {
    "name": "ipython",
    "version": 3
   },
   "file_extension": ".py",
   "mimetype": "text/x-python",
   "name": "python",
   "nbconvert_exporter": "python",
   "pygments_lexer": "ipython3",
   "version": "3.9.12"
  }
 },
 "nbformat": 4,
 "nbformat_minor": 5
}
